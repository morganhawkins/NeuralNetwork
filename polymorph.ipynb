{
 "cells": [
  {
   "cell_type": "code",
   "execution_count": 1,
   "metadata": {},
   "outputs": [],
   "source": [
    "import numpy as np\n",
    "from numba import njit\n",
    "from scipy.special import expit as sigmoid"
   ]
  },
  {
   "cell_type": "code",
   "execution_count": 2,
   "metadata": {},
   "outputs": [],
   "source": [
    "@njit\n",
    "def relu(x):\n",
    "    return np.maximum(0,x)\n",
    "\n",
    "\n",
    "@njit\n",
    "def d_relu(output):\n",
    "    return 1 * (output > 0)\n",
    "\n",
    "@njit\n",
    "def leaky_relu(x):\n",
    "    return np.where(x > 0, x, 0.01*x)    \n",
    "\n",
    "\n",
    "@njit\n",
    "def d_leaky_relu(output):\n",
    "    return np.where(output > 0, 1, 0.01)     \n"
   ]
  },
  {
   "cell_type": "code",
   "execution_count": 3,
   "metadata": {},
   "outputs": [],
   "source": [
    "class activation_layer:\n",
    "    def __init__(self, size):\n",
    "        \n",
    "        self.size = size\n",
    "        self.prev_size = size\n",
    "        self.params = 0\n",
    "    \n",
    "    \n",
    "class relu_activation_layer(activation_layer):\n",
    "\n",
    "    def gradient(self):\n",
    "        return np.diag(d_relu(self.out).flatten())\n",
    "    \n",
    "\n",
    "    def forward(self, x):\n",
    "        assert x.shape == (self.size, 1), f\"input and layer size incompatible, {x.shape} passed\"\n",
    "        \n",
    "        self.out = relu(x)\n",
    "        self.gradient_to_prev = self.gradient()\n",
    "        \n",
    "        return self.out\n",
    "    \n",
    "\n",
    "\n",
    "class sigmoid_activation_layer(activation_layer):\n",
    "    \n",
    "    def gradient(self):\n",
    "        return np.diag(self.out.flatten()*(1-self.out.flatten()))\n",
    "    \n",
    "\n",
    "    def forward(self, x):\n",
    "        assert x.shape == (self.size, 1), f\"input and layer size incompatible, {x.shape} passed\"\n",
    "        \n",
    "        self.out = sigmoid(x)\n",
    "        self.gradient_to_prev = self.gradient()\n",
    "        \n",
    "        return self.out\n",
    "\n",
    "class leaky_relu__activation_layer(activation_layer):\n",
    "\n",
    "    def gradient(self):\n",
    "        return np.diag(d_leaky_relu(self.out).flatten())\n",
    "    \n",
    "\n",
    "    def forward(self, x):\n",
    "        assert x.shape == (self.size, 1), f\"input and layer size incompatible, {x.shape} passed\"\n",
    "        \n",
    "        self.out = leaky_relu(x)\n",
    "        self.gradient_to_prev = self.gradient()\n",
    "        \n",
    "        return self.out\n",
    "    "
   ]
  },
  {
   "cell_type": "code",
   "execution_count": 4,
   "metadata": {},
   "outputs": [],
   "source": [
    "relu_layer = relu_activation_layer(size = 3)\n",
    "sigm_layer = sigmoid_activation_layer(size = 3)\n",
    "l_relu_layer = leaky_relu__activation_layer(size = 3)"
   ]
  },
  {
   "cell_type": "code",
   "execution_count": 5,
   "metadata": {},
   "outputs": [
    {
     "data": {
      "text/plain": [
       "array([[-1.],\n",
       "       [ 0.],\n",
       "       [ 1.]])"
      ]
     },
     "execution_count": 5,
     "metadata": {},
     "output_type": "execute_result"
    }
   ],
   "source": [
    "nodes = np.linspace(-1,1,3).reshape(-1,1)\n",
    "nodes"
   ]
  },
  {
   "cell_type": "code",
   "execution_count": 9,
   "metadata": {},
   "outputs": [
    {
     "name": "stdout",
     "output_type": "stream",
     "text": [
      "1.95 µs ± 9.52 ns per loop (mean ± std. dev. of 7 runs, 1,000,000 loops each)\n"
     ]
    }
   ],
   "source": [
    "%%timeit\n",
    "relu_layer.forward(nodes)"
   ]
  },
  {
   "cell_type": "code",
   "execution_count": 10,
   "metadata": {},
   "outputs": [
    {
     "name": "stdout",
     "output_type": "stream",
     "text": [
      "2.57 µs ± 5.41 ns per loop (mean ± std. dev. of 7 runs, 100,000 loops each)\n"
     ]
    }
   ],
   "source": [
    "%%timeit\n",
    "sigm_layer.forward(nodes)"
   ]
  },
  {
   "cell_type": "code",
   "execution_count": 11,
   "metadata": {},
   "outputs": [
    {
     "name": "stdout",
     "output_type": "stream",
     "text": [
      "2.58 µs ± 24.9 ns per loop (mean ± std. dev. of 7 runs, 100,000 loops each)\n"
     ]
    }
   ],
   "source": [
    "%%timeit\n",
    "l_relu_layer.forward(nodes)"
   ]
  },
  {
   "cell_type": "code",
   "execution_count": null,
   "metadata": {},
   "outputs": [],
   "source": []
  },
  {
   "cell_type": "code",
   "execution_count": null,
   "metadata": {},
   "outputs": [],
   "source": []
  }
 ],
 "metadata": {
  "kernelspec": {
   "display_name": "Python 3",
   "language": "python",
   "name": "python3"
  },
  "language_info": {
   "codemirror_mode": {
    "name": "ipython",
    "version": 3
   },
   "file_extension": ".py",
   "mimetype": "text/x-python",
   "name": "python",
   "nbconvert_exporter": "python",
   "pygments_lexer": "ipython3",
   "version": "3.10.10"
  },
  "orig_nbformat": 4
 },
 "nbformat": 4,
 "nbformat_minor": 2
}
