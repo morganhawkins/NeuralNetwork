{
 "cells": [
  {
   "cell_type": "code",
   "execution_count": null,
   "metadata": {},
   "outputs": [],
   "source": [
    "import numpy as np"
   ]
  },
  {
   "cell_type": "code",
   "execution_count": null,
   "metadata": {},
   "outputs": [],
   "source": [
    "from nnlearn.Compress import *\n",
    "from nnlearn.Network import sigmoid\n",
    "import numpy as np\n",
    "from matplotlib import pyplot as plt\n",
    "from matplotlib import image\n",
    "from multiprocessing import Process\n",
    "from threading import Thread\n",
    "import os\n",
    "import imageio"
   ]
  },
  {
   "cell_type": "code",
   "execution_count": null,
   "metadata": {},
   "outputs": [],
   "source": [
    "img = image.imread(\"/Users/morganhawkins/Desktop/first_python_lib/images/digit_3.png\")[:,:,0]\n",
    "\n",
    "scale_down_factor = 4\n",
    "\n",
    "temp_x = np.arange(452) % scale_down_factor == 0\n",
    "temp_y = np.arange(451) % scale_down_factor == 0\n",
    "img = img[temp_x, :]\n",
    "img = img[:,temp_y]\n",
    "\n",
    "img = img[2:-2,2:-2]\n",
    "\n",
    "img = sigmoid((img - np.mean(img))/np.std(img)*3)\n",
    "# print(img)\n",
    "\n",
    "print(\"\\n shape:\", img.shape, \"\\npixels:\", np.product(img.shape))\n",
    "plt.imshow(img, cmap = 'Greys')\n",
    "plt.show()"
   ]
  },
  {
   "cell_type": "code",
   "execution_count": null,
   "metadata": {},
   "outputs": [],
   "source": [
    "img = image_to_tab(img)\n",
    "x = img[0]\n",
    "y = img[1]"
   ]
  },
  {
   "cell_type": "code",
   "execution_count": null,
   "metadata": {},
   "outputs": [],
   "source": [
    "lays  = (\n",
    "            [input_layer(size = 2)] +\n",
    "            \n",
    "            [connected_layer(num_neurons = 20, prev_neurons = 2),\n",
    "             leaky_relu_activation_layer(20)] +\n",
    "            \n",
    "            [connected_layer(num_neurons = 20, prev_neurons = 20),\n",
    "             leaky_relu_activation_layer(20)] +\n",
    "            \n",
    "            [connected_layer(num_neurons = 1, prev_neurons = 20)] + \n",
    "\n",
    "            [sigmoid_activation_layer(1)]\n",
    "\n",
    "            )\n",
    "\n",
    "net = network(lays, loss_function = cross_entropy_loss)"
   ]
  },
  {
   "cell_type": "code",
   "execution_count": null,
   "metadata": {},
   "outputs": [],
   "source": [
    "print(net.layers[1].weight_mat.shape)\n",
    "print(net.layers[1].bias_mat.shape)\n",
    "print(x[0].shape)"
   ]
  },
  {
   "cell_type": "code",
   "execution_count": null,
   "metadata": {},
   "outputs": [],
   "source": [
    "net.layers[1].weight_mat @ x[0].reshape(-1,1) + net.layers[1].bias_mat"
   ]
  },
  {
   "cell_type": "code",
   "execution_count": null,
   "metadata": {},
   "outputs": [],
   "source": [
    "net.layers[1].forward(x[100].reshape(-1,1))"
   ]
  },
  {
   "cell_type": "code",
   "execution_count": null,
   "metadata": {},
   "outputs": [],
   "source": [
    "net.predict(x[100])\n"
   ]
  },
  {
   "cell_type": "code",
   "execution_count": null,
   "metadata": {},
   "outputs": [],
   "source": [
    "net.minibatch_fit(x,y, epochs = 5)"
   ]
  },
  {
   "cell_type": "code",
   "execution_count": null,
   "metadata": {},
   "outputs": [],
   "source": [
    "net.layers[3].bias_mat"
   ]
  },
  {
   "cell_type": "code",
   "execution_count": null,
   "metadata": {},
   "outputs": [],
   "source": [
    "func_1 = mse_loss()"
   ]
  },
  {
   "cell_type": "code",
   "execution_count": null,
   "metadata": {},
   "outputs": [],
   "source": [
    "func_2 = cross_entropy_loss()"
   ]
  },
  {
   "cell_type": "code",
   "execution_count": null,
   "metadata": {},
   "outputs": [],
   "source": [
    "pred = np.random.uniform(size = 4)\n",
    "targ = np.round(pred)\n",
    "\n",
    "print(pred)\n",
    "print(targ)"
   ]
  },
  {
   "cell_type": "code",
   "execution_count": null,
   "metadata": {},
   "outputs": [],
   "source": [
    "pred = net.layers[-1].out\n",
    "targ = y[100].reshape(-1,1)\n",
    "\n",
    "print(pred)\n",
    "print(targ)"
   ]
  },
  {
   "cell_type": "code",
   "execution_count": null,
   "metadata": {},
   "outputs": [],
   "source": [
    "func_1.gradient(target = targ, prediction = pred)"
   ]
  },
  {
   "cell_type": "code",
   "execution_count": null,
   "metadata": {},
   "outputs": [],
   "source": [
    "func_2.gradient(target = targ, prediction = pred)"
   ]
  },
  {
   "cell_type": "code",
   "execution_count": null,
   "metadata": {},
   "outputs": [],
   "source": []
  },
  {
   "cell_type": "code",
   "execution_count": null,
   "metadata": {},
   "outputs": [],
   "source": []
  }
 ],
 "metadata": {
  "kernelspec": {
   "display_name": "Python 3",
   "language": "python",
   "name": "python3"
  },
  "language_info": {
   "codemirror_mode": {
    "name": "ipython",
    "version": 3
   },
   "file_extension": ".py",
   "mimetype": "text/x-python",
   "name": "python",
   "nbconvert_exporter": "python",
   "pygments_lexer": "ipython3",
   "version": "3.10.10"
  },
  "orig_nbformat": 4
 },
 "nbformat": 4,
 "nbformat_minor": 2
}
