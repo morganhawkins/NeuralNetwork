{
 "cells": [
  {
   "cell_type": "code",
   "execution_count": 1,
   "metadata": {},
   "outputs": [],
   "source": [
    "from nnlearn.Network import *\n"
   ]
  },
  {
   "cell_type": "code",
   "execution_count": 2,
   "metadata": {},
   "outputs": [],
   "source": [
    "class generator_network():\n",
    "    def __init__(self, generator_layers, discriminator_layers):\n",
    "        \n",
    "        full_network = network(generator_layers + discriminator_layers, loss_function = cross_entropy_loss)\n",
    "\n"
   ]
  },
  {
   "cell_type": "code",
   "execution_count": 3,
   "metadata": {},
   "outputs": [],
   "source": [
    "#layer structure for generator\n",
    "generator_layers = [\n",
    "    input_layer(size = 2),\n",
    "    \n",
    "    connected_layer(num_neurons = 10, prev_neurons = 2),\n",
    "    leaky_relu_activation_layer(10),\n",
    "    \n",
    "    connected_layer(num_neurons = 10, prev_neurons = 10),\n",
    "    leaky_relu_activation_layer(10),\n",
    "    \n",
    "    connected_layer(num_neurons = 2, prev_neurons = 10)\n",
    "    \n",
    "]\n",
    "\n",
    "#layer structure for discriminator\n",
    "discriminator_layers = [\n",
    "    input_layer(size = 2),\n",
    "    \n",
    "    connected_layer(num_neurons = 10, prev_neurons = 2),\n",
    "    leaky_relu_activation_layer(10),\n",
    "    \n",
    "    connected_layer(num_neurons = 10, prev_neurons = 10),\n",
    "    leaky_relu_activation_layer(10),\n",
    "    \n",
    "    connected_layer(num_neurons = 1, prev_neurons = 10),\n",
    "    sigmoid_activation_layer(1)\n",
    "    \n",
    "]\n",
    "\n",
    "\n",
    "generator = generator_network(generator_layers, discriminator_layers)"
   ]
  },
  {
   "cell_type": "code",
   "execution_count": 356,
   "metadata": {},
   "outputs": [],
   "source": [
    "dim = generator.input_size\n",
    "\n",
    "def generate():\n",
    "    sample = np.random.normal(size = dim)\n",
    "    sample = generator.predict(sample)\n",
    "    return sample[0]\n",
    "\n",
    "def generate_sample(n):\n",
    "    return np.array([[generate()] for _ in range(n)])"
   ]
  },
  {
   "cell_type": "code",
   "execution_count": 357,
   "metadata": {},
   "outputs": [
    {
     "data": {
      "image/png": "[encoded data removed]",
      "text/plain": [
       "<Figure size 700x300 with 1 Axes>"
      ]
     },
     "metadata": {},
     "output_type": "display_data"
    }
   ],
   "source": [
    "num = 1000\n",
    "real_samples = np.random.chisquare(5, size = num).reshape(-1,1)/3 - .5\n",
    "\n",
    "fake_samples = np.array([generate() for _ in range(num)])\n",
    "\n",
    "plt.figure(figsize = (7,3))\n",
    "\n",
    "plt.hist(fake_samples, density = True, alpha = .7, label = \"fake\")\n",
    "plt.hist(real_samples, density = True, alpha = .7, label = \"real\")\n",
    "\n",
    "plt.legend()\n",
    "plt.show()\n"
   ]
  },
  {
   "cell_type": "code",
   "execution_count": 358,
   "metadata": {},
   "outputs": [
    {
     "name": "stdout",
     "output_type": "stream",
     "text": [
      "(2000, 1) (2000, 1)\n"
     ]
    }
   ],
   "source": [
    "x = np.concatenate([fake_samples.reshape(-1,1), real_samples.reshape(-1,1)])\n",
    "y = np.concatenate([np.repeat(1, len(fake_samples)), np.repeat(0, len(real_samples))]).reshape(-1,1)\n",
    "\n",
    "print(x.shape, y.shape)"
   ]
  },
  {
   "cell_type": "code",
   "execution_count": 359,
   "metadata": {},
   "outputs": [
    {
     "name": "stdout",
     "output_type": "stream",
     "text": [
      "--------------------\n",
      "epoch: 1 \n",
      " loss: 0.6474\n",
      "--------------------\n",
      "epoch: 2001 \n",
      " loss: 0.1378\n",
      "--------------------\n",
      "epoch: 4001 \n",
      " loss: 0.1418\n",
      "--------------------\n",
      "epoch: 6001 \n",
      " loss: 0.1369\n",
      "--------------------\n",
      "epoch: 8001 \n",
      " loss: 0.1358\n",
      "--------------------\n",
      "epoch: 10000 \n",
      " loss: 0.1376\n"
     ]
    }
   ],
   "source": [
    "discriminator.minibatch_fit(x, y, batch_size = 10, epochs = 10_000)"
   ]
  },
  {
   "cell_type": "code",
   "execution_count": 360,
   "metadata": {},
   "outputs": [
    {
     "data": {
      "text/plain": [
       "0.1376030690853584"
      ]
     },
     "execution_count": 360,
     "metadata": {},
     "output_type": "execute_result"
    }
   ],
   "source": [
    "discriminator.loss(x,y)"
   ]
  },
  {
   "cell_type": "code",
   "execution_count": 209,
   "metadata": {},
   "outputs": [],
   "source": [
    "batch_size = 20\n",
    "\n",
    "for _ in range(1_000):\n",
    "    fake_sample = generate_sample(len(real_samples))\n",
    "    fake_target = np.repeat(1, len(fake_sample))\n",
    "\n",
    "    x = np.concatenate([fake_sample.reshape(-1,1), real_samples.reshape(-1,1)])\n",
    "    y = np.concatenate([np.repeat(1, len(fake_sample)), np.repeat(0, len(real_samples))]).reshape(-1,1)\n",
    "\n",
    "    # print(x, y)\n",
    "\n",
    "\n",
    "    # break\n",
    "    \n",
    "    batch_indices = sample(range(len(x)), batch_size)\n",
    "\n",
    "    for i, s in enumerate(batch_indices):\n",
    "        discriminator.forward(x[s].reshape(-1,1))\n",
    "        discriminator.backward(y[s].reshape(-1,1), learn_coef = .05)\n",
    "\n",
    "\n",
    "\n",
    "    for layer in discriminator.layers: \n",
    "        if type(layer) == connected_layer:\n",
    "            layer.weight_mat = layer.weight_mat + (layer.weight_mat_update / batch_size)\n",
    "            layer.bias_mat = layer.bias_mat + (layer.bias_mat_update / batch_size)\n",
    "\n",
    "\n",
    "    discriminator.reset_update_mats()\n",
    "\n",
    "    \n",
    "    \n"
   ]
  },
  {
   "cell_type": "code",
   "execution_count": 210,
   "metadata": {},
   "outputs": [
    {
     "data": {
      "text/plain": [
       "0.38140837218864065"
      ]
     },
     "execution_count": 210,
     "metadata": {},
     "output_type": "execute_result"
    }
   ],
   "source": [
    "discriminator.loss(x,y)\n",
    "\n"
   ]
  },
  {
   "cell_type": "code",
   "execution_count": 361,
   "metadata": {},
   "outputs": [
    {
     "name": "stderr",
     "output_type": "stream",
     "text": [
      "/Library/Frameworks/Python.framework/Versions/3.10/lib/python3.10/site-packages/nnlearn/Layers.py:31: RuntimeWarning: overflow encountered in matmul\n",
      "  self.out = self.weight_mat @ activations + self.bias_mat\n",
      "/Library/Frameworks/Python.framework/Versions/3.10/lib/python3.10/site-packages/nnlearn/Layers.py:31: RuntimeWarning: invalid value encountered in matmul\n",
      "  self.out = self.weight_mat @ activations + self.bias_mat\n"
     ]
    }
   ],
   "source": [
    "batch_size = 20\n",
    "discriminator.reset_update_mats()\n",
    "generator.reset_update_mats()\n",
    "\n",
    "for _ in range(100):\n",
    "    latent_sample = np.random.normal(size = (len(real_samples), 1))\n",
    "    fake_target = np.repeat(1, len(latent_sample))\n",
    "\n",
    "    x = latent_sample.reshape(-1,1)\n",
    "    y = fake_target.reshape(-1,1)\n",
    "\n",
    "    # print(x, y)\n",
    "\n",
    "    # plt.hist([generator.predict(s)[0,0] for s in x], density = True, alpha = .7, label = \"fake\")\n",
    "    # plt.hist(real_samples, density = True, alpha = .7, label = \"real\")\n",
    "\n",
    "    \n",
    "    batch_indices = sample(range(len(x)), batch_size)\n",
    "\n",
    "    for i, s in enumerate(batch_indices):\n",
    "        fake_sample = generator.predict(x[s].reshape(-1,1))\n",
    "        discriminator_prediction = discriminator.predict(fake_sample.reshape(-1,1))\n",
    "\n",
    "        generator.backward(y = np.array([[0]]), prediction = discriminator_prediction)\n",
    "\n",
    "        # print(\" fake sample:\", fake_sample)\n",
    "        # print(\"discrim pred:\", discriminator_prediction)\n",
    "        # print(\"    gradient:\", generator.loss_function.gradient(target = np.array([[0.5]]), prediction = discriminator_prediction))\n",
    "        \n",
    "\n",
    "        # break\n",
    "\n",
    "        \n",
    "\n",
    "    # break\n",
    "\n",
    "    for layer in generator.layers: \n",
    "        if type(layer) == connected_layer:\n",
    "            layer.weight_mat = layer.weight_mat + (layer.weight_mat_update / batch_size)\n",
    "            layer.bias_mat = layer.bias_mat + (layer.bias_mat_update / batch_size)\n",
    "\n",
    "\n",
    "\n",
    "    generator.reset_update_mats()\n",
    "\n",
    "\n",
    "    \n",
    "    # break\n",
    "\n",
    "\n",
    "    "
   ]
  },
  {
   "cell_type": "code",
   "execution_count": 344,
   "metadata": {},
   "outputs": [
    {
     "data": {
      "text/plain": [
       "1.4109868424914191"
      ]
     },
     "execution_count": 344,
     "metadata": {},
     "output_type": "execute_result"
    }
   ],
   "source": [
    "discriminator.loss(x,y)\n"
   ]
  },
  {
   "cell_type": "code",
   "execution_count": 345,
   "metadata": {},
   "outputs": [
    {
     "ename": "ValueError",
     "evalue": "autodetected range of [nan, nan] is not finite",
     "output_type": "error",
     "traceback": [
      "\u001b[0;31m---------------------------------------------------------------------------\u001b[0m",
      "\u001b[0;31mValueError\u001b[0m                                Traceback (most recent call last)",
      "Cell \u001b[0;32mIn[345], line 8\u001b[0m\n\u001b[1;32m      4\u001b[0m fake_samples \u001b[39m=\u001b[39m np\u001b[39m.\u001b[39marray([generate() \u001b[39mfor\u001b[39;00m _ \u001b[39min\u001b[39;00m \u001b[39mrange\u001b[39m(num)])\n\u001b[1;32m      6\u001b[0m plt\u001b[39m.\u001b[39mfigure(figsize \u001b[39m=\u001b[39m (\u001b[39m7\u001b[39m,\u001b[39m3\u001b[39m))\n\u001b[0;32m----> 8\u001b[0m plt\u001b[39m.\u001b[39;49mhist(fake_samples, density \u001b[39m=\u001b[39;49m \u001b[39mTrue\u001b[39;49;00m, alpha \u001b[39m=\u001b[39;49m \u001b[39m.7\u001b[39;49m, label \u001b[39m=\u001b[39;49m \u001b[39m\"\u001b[39;49m\u001b[39mfake\u001b[39;49m\u001b[39m\"\u001b[39;49m)\n\u001b[1;32m      9\u001b[0m plt\u001b[39m.\u001b[39mhist(real_samples, density \u001b[39m=\u001b[39m \u001b[39mTrue\u001b[39;00m, alpha \u001b[39m=\u001b[39m \u001b[39m.7\u001b[39m, label \u001b[39m=\u001b[39m \u001b[39m\"\u001b[39m\u001b[39mreal\u001b[39m\u001b[39m\"\u001b[39m)\n\u001b[1;32m     11\u001b[0m plt\u001b[39m.\u001b[39mlegend()\n",
      "File \u001b[0;32m/Library/Frameworks/Python.framework/Versions/3.10/lib/python3.10/site-packages/matplotlib/pyplot.py:2645\u001b[0m, in \u001b[0;36mhist\u001b[0;34m(x, bins, range, density, weights, cumulative, bottom, histtype, align, orientation, rwidth, log, color, label, stacked, data, **kwargs)\u001b[0m\n\u001b[1;32m   2639\u001b[0m \u001b[39m@_copy_docstring_and_deprecators\u001b[39m(Axes\u001b[39m.\u001b[39mhist)\n\u001b[1;32m   2640\u001b[0m \u001b[39mdef\u001b[39;00m \u001b[39mhist\u001b[39m(\n\u001b[1;32m   2641\u001b[0m         x, bins\u001b[39m=\u001b[39m\u001b[39mNone\u001b[39;00m, \u001b[39mrange\u001b[39m\u001b[39m=\u001b[39m\u001b[39mNone\u001b[39;00m, density\u001b[39m=\u001b[39m\u001b[39mFalse\u001b[39;00m, weights\u001b[39m=\u001b[39m\u001b[39mNone\u001b[39;00m,\n\u001b[1;32m   2642\u001b[0m         cumulative\u001b[39m=\u001b[39m\u001b[39mFalse\u001b[39;00m, bottom\u001b[39m=\u001b[39m\u001b[39mNone\u001b[39;00m, histtype\u001b[39m=\u001b[39m\u001b[39m'\u001b[39m\u001b[39mbar\u001b[39m\u001b[39m'\u001b[39m, align\u001b[39m=\u001b[39m\u001b[39m'\u001b[39m\u001b[39mmid\u001b[39m\u001b[39m'\u001b[39m,\n\u001b[1;32m   2643\u001b[0m         orientation\u001b[39m=\u001b[39m\u001b[39m'\u001b[39m\u001b[39mvertical\u001b[39m\u001b[39m'\u001b[39m, rwidth\u001b[39m=\u001b[39m\u001b[39mNone\u001b[39;00m, log\u001b[39m=\u001b[39m\u001b[39mFalse\u001b[39;00m, color\u001b[39m=\u001b[39m\u001b[39mNone\u001b[39;00m,\n\u001b[1;32m   2644\u001b[0m         label\u001b[39m=\u001b[39m\u001b[39mNone\u001b[39;00m, stacked\u001b[39m=\u001b[39m\u001b[39mFalse\u001b[39;00m, \u001b[39m*\u001b[39m, data\u001b[39m=\u001b[39m\u001b[39mNone\u001b[39;00m, \u001b[39m*\u001b[39m\u001b[39m*\u001b[39mkwargs):\n\u001b[0;32m-> 2645\u001b[0m     \u001b[39mreturn\u001b[39;00m gca()\u001b[39m.\u001b[39;49mhist(\n\u001b[1;32m   2646\u001b[0m         x, bins\u001b[39m=\u001b[39;49mbins, \u001b[39mrange\u001b[39;49m\u001b[39m=\u001b[39;49m\u001b[39mrange\u001b[39;49m, density\u001b[39m=\u001b[39;49mdensity, weights\u001b[39m=\u001b[39;49mweights,\n\u001b[1;32m   2647\u001b[0m         cumulative\u001b[39m=\u001b[39;49mcumulative, bottom\u001b[39m=\u001b[39;49mbottom, histtype\u001b[39m=\u001b[39;49mhisttype,\n\u001b[1;32m   2648\u001b[0m         align\u001b[39m=\u001b[39;49malign, orientation\u001b[39m=\u001b[39;49morientation, rwidth\u001b[39m=\u001b[39;49mrwidth, log\u001b[39m=\u001b[39;49mlog,\n\u001b[1;32m   2649\u001b[0m         color\u001b[39m=\u001b[39;49mcolor, label\u001b[39m=\u001b[39;49mlabel, stacked\u001b[39m=\u001b[39;49mstacked,\n\u001b[1;32m   2650\u001b[0m         \u001b[39m*\u001b[39;49m\u001b[39m*\u001b[39;49m({\u001b[39m\"\u001b[39;49m\u001b[39mdata\u001b[39;49m\u001b[39m\"\u001b[39;49m: data} \u001b[39mif\u001b[39;49;00m data \u001b[39mis\u001b[39;49;00m \u001b[39mnot\u001b[39;49;00m \u001b[39mNone\u001b[39;49;00m \u001b[39melse\u001b[39;49;00m {}), \u001b[39m*\u001b[39;49m\u001b[39m*\u001b[39;49mkwargs)\n",
      "File \u001b[0;32m/Library/Frameworks/Python.framework/Versions/3.10/lib/python3.10/site-packages/matplotlib/__init__.py:1442\u001b[0m, in \u001b[0;36m_preprocess_data.<locals>.inner\u001b[0;34m(ax, data, *args, **kwargs)\u001b[0m\n\u001b[1;32m   1439\u001b[0m \u001b[39m@functools\u001b[39m\u001b[39m.\u001b[39mwraps(func)\n\u001b[1;32m   1440\u001b[0m \u001b[39mdef\u001b[39;00m \u001b[39minner\u001b[39m(ax, \u001b[39m*\u001b[39margs, data\u001b[39m=\u001b[39m\u001b[39mNone\u001b[39;00m, \u001b[39m*\u001b[39m\u001b[39m*\u001b[39mkwargs):\n\u001b[1;32m   1441\u001b[0m     \u001b[39mif\u001b[39;00m data \u001b[39mis\u001b[39;00m \u001b[39mNone\u001b[39;00m:\n\u001b[0;32m-> 1442\u001b[0m         \u001b[39mreturn\u001b[39;00m func(ax, \u001b[39m*\u001b[39;49m\u001b[39mmap\u001b[39;49m(sanitize_sequence, args), \u001b[39m*\u001b[39;49m\u001b[39m*\u001b[39;49mkwargs)\n\u001b[1;32m   1444\u001b[0m     bound \u001b[39m=\u001b[39m new_sig\u001b[39m.\u001b[39mbind(ax, \u001b[39m*\u001b[39margs, \u001b[39m*\u001b[39m\u001b[39m*\u001b[39mkwargs)\n\u001b[1;32m   1445\u001b[0m     auto_label \u001b[39m=\u001b[39m (bound\u001b[39m.\u001b[39marguments\u001b[39m.\u001b[39mget(label_namer)\n\u001b[1;32m   1446\u001b[0m                   \u001b[39mor\u001b[39;00m bound\u001b[39m.\u001b[39mkwargs\u001b[39m.\u001b[39mget(label_namer))\n",
      "File \u001b[0;32m/Library/Frameworks/Python.framework/Versions/3.10/lib/python3.10/site-packages/matplotlib/axes/_axes.py:6790\u001b[0m, in \u001b[0;36mAxes.hist\u001b[0;34m(self, x, bins, range, density, weights, cumulative, bottom, histtype, align, orientation, rwidth, log, color, label, stacked, **kwargs)\u001b[0m\n\u001b[1;32m   6786\u001b[0m \u001b[39m# Loop through datasets\u001b[39;00m\n\u001b[1;32m   6787\u001b[0m \u001b[39mfor\u001b[39;00m i \u001b[39min\u001b[39;00m \u001b[39mrange\u001b[39m(nx):\n\u001b[1;32m   6788\u001b[0m     \u001b[39m# this will automatically overwrite bins,\u001b[39;00m\n\u001b[1;32m   6789\u001b[0m     \u001b[39m# so that each histogram uses the same bins\u001b[39;00m\n\u001b[0;32m-> 6790\u001b[0m     m, bins \u001b[39m=\u001b[39m np\u001b[39m.\u001b[39;49mhistogram(x[i], bins, weights\u001b[39m=\u001b[39;49mw[i], \u001b[39m*\u001b[39;49m\u001b[39m*\u001b[39;49mhist_kwargs)\n\u001b[1;32m   6791\u001b[0m     tops\u001b[39m.\u001b[39mappend(m)\n\u001b[1;32m   6792\u001b[0m tops \u001b[39m=\u001b[39m np\u001b[39m.\u001b[39marray(tops, \u001b[39mfloat\u001b[39m)  \u001b[39m# causes problems later if it's an int\u001b[39;00m\n",
      "File \u001b[0;32m<__array_function__ internals>:200\u001b[0m, in \u001b[0;36mhistogram\u001b[0;34m(*args, **kwargs)\u001b[0m\n",
      "File \u001b[0;32m/Library/Frameworks/Python.framework/Versions/3.10/lib/python3.10/site-packages/numpy/lib/histograms.py:780\u001b[0m, in \u001b[0;36mhistogram\u001b[0;34m(a, bins, range, density, weights)\u001b[0m\n\u001b[1;32m    680\u001b[0m \u001b[39m\u001b[39m\u001b[39mr\u001b[39m\u001b[39m\"\"\"\u001b[39;00m\n\u001b[1;32m    681\u001b[0m \u001b[39mCompute the histogram of a dataset.\u001b[39;00m\n\u001b[1;32m    682\u001b[0m \n\u001b[0;32m   (...)\u001b[0m\n\u001b[1;32m    776\u001b[0m \n\u001b[1;32m    777\u001b[0m \u001b[39m\"\"\"\u001b[39;00m\n\u001b[1;32m    778\u001b[0m a, weights \u001b[39m=\u001b[39m _ravel_and_check_weights(a, weights)\n\u001b[0;32m--> 780\u001b[0m bin_edges, uniform_bins \u001b[39m=\u001b[39m _get_bin_edges(a, bins, \u001b[39mrange\u001b[39;49m, weights)\n\u001b[1;32m    782\u001b[0m \u001b[39m# Histogram is an integer or a float array depending on the weights.\u001b[39;00m\n\u001b[1;32m    783\u001b[0m \u001b[39mif\u001b[39;00m weights \u001b[39mis\u001b[39;00m \u001b[39mNone\u001b[39;00m:\n",
      "File \u001b[0;32m/Library/Frameworks/Python.framework/Versions/3.10/lib/python3.10/site-packages/numpy/lib/histograms.py:426\u001b[0m, in \u001b[0;36m_get_bin_edges\u001b[0;34m(a, bins, range, weights)\u001b[0m\n\u001b[1;32m    423\u001b[0m     \u001b[39mif\u001b[39;00m n_equal_bins \u001b[39m<\u001b[39m \u001b[39m1\u001b[39m:\n\u001b[1;32m    424\u001b[0m         \u001b[39mraise\u001b[39;00m \u001b[39mValueError\u001b[39;00m(\u001b[39m'\u001b[39m\u001b[39m`bins` must be positive, when an integer\u001b[39m\u001b[39m'\u001b[39m)\n\u001b[0;32m--> 426\u001b[0m     first_edge, last_edge \u001b[39m=\u001b[39m _get_outer_edges(a, \u001b[39mrange\u001b[39;49m)\n\u001b[1;32m    428\u001b[0m \u001b[39melif\u001b[39;00m np\u001b[39m.\u001b[39mndim(bins) \u001b[39m==\u001b[39m \u001b[39m1\u001b[39m:\n\u001b[1;32m    429\u001b[0m     bin_edges \u001b[39m=\u001b[39m np\u001b[39m.\u001b[39masarray(bins)\n",
      "File \u001b[0;32m/Library/Frameworks/Python.framework/Versions/3.10/lib/python3.10/site-packages/numpy/lib/histograms.py:323\u001b[0m, in \u001b[0;36m_get_outer_edges\u001b[0;34m(a, range)\u001b[0m\n\u001b[1;32m    321\u001b[0m     first_edge, last_edge \u001b[39m=\u001b[39m a\u001b[39m.\u001b[39mmin(), a\u001b[39m.\u001b[39mmax()\n\u001b[1;32m    322\u001b[0m     \u001b[39mif\u001b[39;00m \u001b[39mnot\u001b[39;00m (np\u001b[39m.\u001b[39misfinite(first_edge) \u001b[39mand\u001b[39;00m np\u001b[39m.\u001b[39misfinite(last_edge)):\n\u001b[0;32m--> 323\u001b[0m         \u001b[39mraise\u001b[39;00m \u001b[39mValueError\u001b[39;00m(\n\u001b[1;32m    324\u001b[0m             \u001b[39m\"\u001b[39m\u001b[39mautodetected range of [\u001b[39m\u001b[39m{}\u001b[39;00m\u001b[39m, \u001b[39m\u001b[39m{}\u001b[39;00m\u001b[39m] is not finite\u001b[39m\u001b[39m\"\u001b[39m\u001b[39m.\u001b[39mformat(first_edge, last_edge))\n\u001b[1;32m    326\u001b[0m \u001b[39m# expand empty range to avoid divide by zero\u001b[39;00m\n\u001b[1;32m    327\u001b[0m \u001b[39mif\u001b[39;00m first_edge \u001b[39m==\u001b[39m last_edge:\n",
      "\u001b[0;31mValueError\u001b[0m: autodetected range of [nan, nan] is not finite"
     ]
    },
    {
     "data": {
      "image/png": "[encoded data removed]",
      "text/plain": [
       "<Figure size 700x300 with 1 Axes>"
      ]
     },
     "metadata": {},
     "output_type": "display_data"
    }
   ],
   "source": [
    "num = 1000\n",
    "real_samples = np.random.chisquare(5, size = num).reshape(-1,1)/3 - .5\n",
    "\n",
    "fake_samples = np.array([generate() for _ in range(num)])\n",
    "\n",
    "plt.figure(figsize = (7,3))\n",
    "\n",
    "plt.hist(fake_samples, density = True, alpha = .7, label = \"fake\")\n",
    "plt.hist(real_samples, density = True, alpha = .7, label = \"real\")\n",
    "\n",
    "plt.legend()\n",
    "plt.show()"
   ]
  },
  {
   "cell_type": "code",
   "execution_count": 351,
   "metadata": {},
   "outputs": [
    {
     "data": {
      "text/plain": [
       "array([[nan, nan, nan, nan, nan, nan, nan, nan, nan, nan],\n",
       "       [nan, nan, nan, nan, nan, nan, nan, nan, nan, nan],\n",
       "       [nan, nan, nan, nan, nan, nan, nan, nan, nan, nan],\n",
       "       [nan, nan, nan, nan, nan, nan, nan, nan, nan, nan],\n",
       "       [nan, nan, nan, nan, nan, nan, nan, nan, nan, nan],\n",
       "       [nan, nan, nan, nan, nan, nan, nan, nan, nan, nan],\n",
       "       [nan, nan, nan, nan, nan, nan, nan, nan, nan, nan],\n",
       "       [nan, nan, nan, nan, nan, nan, nan, nan, nan, nan],\n",
       "       [nan, nan, nan, nan, nan, nan, nan, nan, nan, nan],\n",
       "       [nan, nan, nan, nan, nan, nan, nan, nan, nan, nan]])"
      ]
     },
     "execution_count": 351,
     "metadata": {},
     "output_type": "execute_result"
    }
   ],
   "source": [
    "generator.layers[3].weight_mat"
   ]
  },
  {
   "cell_type": "code",
   "execution_count": null,
   "metadata": {},
   "outputs": [],
   "source": []
  }
 ],
 "metadata": {
  "kernelspec": {
   "display_name": "Python 3",
   "language": "python",
   "name": "python3"
  },
  "language_info": {
   "codemirror_mode": {
    "name": "ipython",
    "version": 3
   },
   "file_extension": ".py",
   "mimetype": "text/x-python",
   "name": "python",
   "nbconvert_exporter": "python",
   "pygments_lexer": "ipython3",
   "version": "3.10.10"
  },
  "orig_nbformat": 4
 },
 "nbformat": 4,
 "nbformat_minor": 2
}
