{
 "cells": [
  {
   "cell_type": "code",
   "execution_count": null,
   "metadata": {},
   "outputs": [],
   "source": [
    "from nnlearn.Compress import *\n",
    "from nnlearn.Network import sigmoid\n",
    "import numpy as np\n",
    "from matplotlib import pyplot as plt\n",
    "from matplotlib import image"
   ]
  },
  {
   "cell_type": "code",
   "execution_count": null,
   "metadata": {},
   "outputs": [],
   "source": [
    "img = image.imread(\"nnlearn/digit_3.png\")[:,:,0]\n",
    "\n",
    "scale_down_factor = 50\n",
    "\n",
    "temp_x = np.arange(452) % scale_down_factor == 0\n",
    "temp_y = np.arange(451) % scale_down_factor == 0\n",
    "img = img[temp_x, :]\n",
    "img = img[:,temp_y]\n",
    "\n",
    "img = img[2:-2,2:-2]\n",
    "\n",
    "img = sigmoid((img - np.mean(img))/np.std(img)*3)\n",
    "print(img)\n",
    "\n",
    "print(\"\\n shape:\", img.shape, \"\\npixels:\", np.product(img.shape))\n",
    "plt.imshow(img, cmap = 'Greys')\n",
    "plt.show()"
   ]
  },
  {
   "cell_type": "code",
   "execution_count": null,
   "metadata": {},
   "outputs": [],
   "source": [
    "compresser_small = nn_image_compresser(hidden_layers = 2, layer_width = 3)\n",
    "\n",
    "\n",
    "compresser_large = nn_image_compresser(hidden_layers = 3, layer_width = 9)\n",
    "\n"
   ]
  },
  {
   "cell_type": "code",
   "execution_count": null,
   "metadata": {},
   "outputs": [],
   "source": [
    "eps = 2_000_000\n",
    "\n",
    "compresser_small.fit(img, batch_size = None, epochs = eps, verbose = True, learn_coef = .2)\n",
    "\n",
    "compresser_large.fit(img, batch_size = None, epochs = eps, verbose = True, learn_coef = .2)"
   ]
  },
  {
   "cell_type": "code",
   "execution_count": null,
   "metadata": {},
   "outputs": [],
   "source": [
    "compresser_small.network.graph_loss_history()\n",
    "compresser_large.network.graph_loss_history()"
   ]
  },
  {
   "cell_type": "code",
   "execution_count": null,
   "metadata": {},
   "outputs": [],
   "source": [
    "recreated_image = compresser_large.create_image(50,50)\n",
    "\n",
    "plt.imshow(recreated_image, cmap = 'Greys')\n",
    "plt.title(f\"Small Compresser (epochs: {compresser_large.network.epochs_trained})\")\n",
    "\n",
    "\n",
    "plt.show()\n",
    "\n"
   ]
  },
  {
   "cell_type": "code",
   "execution_count": null,
   "metadata": {},
   "outputs": [],
   "source": []
  }
 ],
 "metadata": {
  "kernelspec": {
   "display_name": "Python 3",
   "language": "python",
   "name": "python3"
  },
  "language_info": {
   "codemirror_mode": {
    "name": "ipython",
    "version": 3
   },
   "file_extension": ".py",
   "mimetype": "text/x-python",
   "name": "python",
   "nbconvert_exporter": "python",
   "pygments_lexer": "ipython3",
   "version": "3.10.10"
  },
  "orig_nbformat": 4
 },
 "nbformat": 4,
 "nbformat_minor": 2
}
