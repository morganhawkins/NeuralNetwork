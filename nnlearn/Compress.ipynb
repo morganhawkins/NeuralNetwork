{
 "cells": [
  {
   "cell_type": "code",
   "execution_count": 7,
   "metadata": {},
   "outputs": [],
   "source": [
    "from nnlearn.Network import *\n",
    "from matplotlib import pyplot as plt\n",
    "from matplotlib import image\n",
    "\n"
   ]
  },
  {
   "cell_type": "code",
   "execution_count": 8,
   "metadata": {},
   "outputs": [
    {
     "data": {
      "image/png": "[encoded data removed]",
      "text/plain": [
       "<Figure size 640x480 with 1 Axes>"
      ]
     },
     "metadata": {},
     "output_type": "display_data"
    }
   ],
   "source": [
    "img = image.imread(\"digit_3.png\")[:,:,0]\n",
    "plt.imshow(img)\n",
    "plt.show()"
   ]
  },
  {
   "cell_type": "code",
   "execution_count": 9,
   "metadata": {},
   "outputs": [],
   "source": [
    "def image_to_tab(image):\n",
    "    shape = image.shape\n",
    "    x = []\n",
    "    y = []\n",
    "\n",
    "    for row in range(shape[0]):\n",
    "        for col in range(shape[1]):\n",
    "\n",
    "            x.append([row/shape[0], col/shape[1]])\n",
    "            y.append(image[row,col])\n",
    "\n",
    "    x = np.array(x)\n",
    "    y = np.array(y)\n",
    "    \n",
    "    return (x, y)"
   ]
  },
  {
   "cell_type": "code",
   "execution_count": 10,
   "metadata": {},
   "outputs": [],
   "source": [
    "class nn_image_compresser():\n",
    "    def __init__(self, hidden_layers = 2, layer_width = 7):\n",
    "\n",
    "        assert hidden_layers >= 1, \"must have at least 1 hidden layer\"\n",
    "        assert layer_width >= 1, \"layer width must be at least 1\"\n",
    "\n",
    "        layers = (\n",
    "            [input_layer(size = 2)] +\n",
    "            \n",
    "            [connected_layer(num_neurons = layer_width, prev_neurons = 2),\n",
    "             activation_layer(layer_width)] +\n",
    "            \n",
    "                \n",
    "\n",
    "            [connected_layer(num_neurons = layer_width, prev_neurons = layer_width),\n",
    "             activation_layer(layer_width)] * (hidden_layers - 1) +\n",
    "            \n",
    "            \n",
    "            [connected_layer(num_neurons = 1, prev_neurons = layer_width)]\n",
    "\n",
    "            )\n",
    "        \n",
    "        self.network = test_net = network(layers)\n",
    "\n",
    "\n",
    "\n",
    "    \n",
    "    def fit(self, image, batch_size = None, epochs = 500, learn_coef = .3, verbose = True):\n",
    "\n",
    "        x, y = image_to_tab(image)\n",
    "    \n",
    "        self.network.minibatch_fit(x, y, batch_size = batch_size, epochs = epochs, learn_coef = learn_coef, verbose = verbose)\n",
    "\n",
    "\n",
    "    def create_image(self, width, height = None):\n",
    "        \n",
    "        if height == None: height = width\n",
    "\n",
    "        predicted_image = np.zeros((width,height))\n",
    "\n",
    "        for row in range(height):\n",
    "            for col in range(width):\n",
    "\n",
    "                prediction = self.network.predict(np.array([row/height, col/width]))\n",
    "                predicted_image[row, col] = prediction\n",
    "\n",
    "        return predicted_image\n",
    "    \n",
    "\n",
    "\n"
   ]
  },
  {
   "cell_type": "code",
   "execution_count": 11,
   "metadata": {},
   "outputs": [],
   "source": [
    "compresser = nn_image_compresser()\n"
   ]
  },
  {
   "cell_type": "code",
   "execution_count": 12,
   "metadata": {},
   "outputs": [
    {
     "name": "stdout",
     "output_type": "stream",
     "text": [
      "--------------------\n",
      "epoch: 1 \n",
      " loss: 1.2346\n",
      "--------------------\n",
      "epoch: 2001 \n",
      " loss: 1.2346\n"
     ]
    }
   ],
   "source": [
    "compresser.fit(img, batch_size = 10000, epochs = 10000, verbose = True)"
   ]
  },
  {
   "cell_type": "code",
   "execution_count": null,
   "metadata": {},
   "outputs": [],
   "source": []
  },
  {
   "cell_type": "code",
   "execution_count": null,
   "metadata": {},
   "outputs": [],
   "source": []
  }
 ],
 "metadata": {
  "kernelspec": {
   "display_name": "Python 3",
   "language": "python",
   "name": "python3"
  },
  "language_info": {
   "codemirror_mode": {
    "name": "ipython",
    "version": 3
   },
   "file_extension": ".py",
   "mimetype": "text/x-python",
   "name": "python",
   "nbconvert_exporter": "python",
   "pygments_lexer": "ipython3",
   "version": "3.10.10"
  },
  "orig_nbformat": 4
 },
 "nbformat": 4,
 "nbformat_minor": 2
}
